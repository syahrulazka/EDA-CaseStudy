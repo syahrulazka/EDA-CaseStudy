{
  "cells": [
    {
      "cell_type": "code",
      "execution_count": null,
      "metadata": {
        "colab": {
          "background_save": true
        },
        "id": "lfhkuU3XNYqq"
      },
      "outputs": [],
      "source": [
        "import pandas as pd"
      ]
    },
    {
      "cell_type": "code",
      "execution_count": null,
      "metadata": {
        "id": "6HcGwlxY2wWy"
      },
      "outputs": [],
      "source": [
        "try: # Running Locally, yakinkan \"file_\" berada di folder \"data\"\n",
        "    mengajar = pd.read_csv('data/mengajar.csv', encoding='utf8')\n",
        "    dosen = pd.read_csv('data/tb_dosen.csv', encoding='utf8')\n",
        "    kelas = pd.read_csv('data/tb_kelas.csv', encoding='utf8')\n",
        "    krs = pd.read_csv('data/tb_krs.csv', encoding='utf8')\n",
        "    mahasiswa = pd.read_csv('data/tb_mahasiswa.csv', encoding='utf8')\n",
        "    kuliah = pd.read_csv('data/tb_mata_kuliah.csv', encoding='utf8')\n",
        "    nilai = pd.read_csv('data/tb_nilai.csv', encoding='utf8')\n",
        "except: # Running in Google Colab\n",
        "    !mkdir data\n",
        "    !wget -P data/ https://raw.githubusercontent.com/taufiksutanto/cs02-eda/main/data/mengajar.csv\n",
        "    !wget -P data/ https://raw.githubusercontent.com/taufiksutanto/cs02-eda/main/data/tb_dosen.csv\n",
        "    !wget -P data/ https://raw.githubusercontent.com/taufiksutanto/cs02-eda/main/data/tb_kelas.csv\n",
        "    !wget -P data/ https://raw.githubusercontent.com/taufiksutanto/cs02-eda/main/data/tb_krs.csv\n",
        "    !wget -P data/ https://raw.githubusercontent.com/taufiksutanto/cs02-eda/main/data/tb_mahasiswa.csv\n",
        "    !wget -P data/ https://raw.githubusercontent.com/taufiksutanto/cs02-eda/main/data/tb_mata_kuliah.csv\n",
        "    !wget -P data/ https://raw.githubusercontent.com/taufiksutanto/cs02-eda/main/data/tb_nilai.csv\n",
        "    mengajar = pd.read_csv('data/mengajar.csv', encoding='utf8')\n",
        "    dosen = pd.read_csv('data/tb_dosen.csv', encoding='utf8')\n",
        "    kelas = pd.read_csv('data/tb_kelas.csv', encoding='utf8')\n",
        "    krs = pd.read_csv('data/tb_krs.csv', encoding='utf8')\n",
        "    mahasiswa = pd.read_csv('data/tb_mahasiswa.csv', encoding='utf8')\n",
        "    kuliah = pd.read_csv('data/tb_mata_kuliah.csv', encoding='utf8')\n",
        "    nilai = pd.read_csv('data/tb_nilai.csv', encoding='utf8')\n",
        "\n",
        "mengajar.shape, dosen.shape, kelas.shape, krs.shape, mahasiswa.shape, kuliah.shape, nilai.shape"
      ]
    },
    {
      "cell_type": "markdown",
      "metadata": {
        "id": "lKRGfPDpeNEU"
      },
      "source": [
        "Permasalahan:\n",
        "\n",
        "**1. Apakah ada dosen yang cenderung memberikan nilai cenderung lebih tinggi (atau lebih rendah) dibandingkan dosen lainnya?**"
      ]
    },
    {
      "cell_type": "code",
      "execution_count": null,
      "metadata": {
        "id": "NwhNBiLGeRG3"
      },
      "outputs": [],
      "source": [
        "nilai_dosen = nilai.groupby([nilai['NIDN']]).mean()[['nilai']]\n",
        "nilai_dosen = nilai_dosen.rename({'nilai': 'mean_nilai'}, axis=1)\n",
        "nilai_dosen = pd.merge(dosen, nilai_dosen, left_on='NIDN', right_index=True)[['NIDN', 'nama', 'mean_nilai']]\n",
        "nilai_dosen = nilai_dosen.set_index(['NIDN'])\n",
        "std = nilai.groupby([nilai['NIDN']]).std()[['nilai']]\n",
        "std = std.rename({'nilai': 'std_nilai'}, axis=1)\n",
        "nilai_dosen = pd.concat([nilai_dosen, std], axis=1)\n",
        "nilai_dosen"
      ]
    },
    {
      "cell_type": "markdown",
      "metadata": {
        "id": "20cDZLU6gUSs"
      },
      "source": [
        "Interpretasi Nomor 1 :\n",
        "\n",
        "Terdapat kecenderungan dalam pemberian nilai, ada dosen yang cenderung memberikan nilai lebih tinggi dibandingkan dosen lainnya, dan ada pula dosen yang cenderung memberikan nilai lebih rendah dibandingkan dosen lainnya.\n",
        "\n",
        "Andri Basuki memberikan nilai yang lebih tinggi dibanding dosen lainnya dilihat dari mean nilai yang tinggi dengan standar deviasi nilai yang rendah dan Annisa Fitria memberikan nilai lebih rendah dibandingkan dosen lainnya dilihat dari mean nilai yang rendah dengan standar deviasi nilai yang tinggi.\n",
        "\n",
        "Namun, dalam hal ini masih perlu tambahan data yaitu data mengenai jumlah kelas yang diajarkan sehingga dapat mempertimbangkan mean nilai dari setiap dosen. Karena akan terjadi ketidakadilan jika jumlah kelasnya berbeda."
      ]
    },
    {
      "cell_type": "markdown",
      "metadata": {
        "id": "YdLHyFaReiCl"
      },
      "source": [
        "**2. Menurut data yang ada, apakah terdapat perbedaan dalam pemberian nilai antara dosen dengan Pendidikan Terakhir S3 dan S2?**"
      ]
    },
    {
      "cell_type": "code",
      "execution_count": null,
      "metadata": {
        "id": "fQMCsQNsegMI"
      },
      "outputs": [],
      "source": [
        "dosen = dosen.set_index(['NIDN'])\n",
        "sarjana = pd.merge(dosen, nilai_dosen, left_on='NIDN', right_index=True)\n",
        "sarjana[['nama_x', 'Pendidikan_Terakhir', 'mean_nilai', 'std_nilai']]"
      ]
    },
    {
      "cell_type": "markdown",
      "metadata": {
        "id": "egRL2hFpglUw"
      },
      "source": [
        "Interpretasi Nomor 2 :\n",
        "\n",
        "Jika hanya dilihat dari mean nilai, terdapat perbedaan dalam pemberian nilai dari dosen berdasarkan pendidikan terakhirnya. Dosen dengan pendidikan terakhir S3 cenderung memberikan nilai yang lebih tinggi dibandingkan dengan dosen dengan pendidikan terakhir S2.\n",
        "\n",
        "Namun, jika dilihat dari standar deviasi (secara perorangan), perbedaan pemberian nilai dari dosen berdasrkan pendidikan terakhirnya tidak terlalu jauh berbeda. Karena Andri Basuki yang memiliki rata-rata nilai tinggi, standar deviasi rendah, dapat tergolong dosen yang memberikan nilai tinggi, pendidikan terakhir beliau adalah S3. Sedangkan Annisa Fitria yang memberikan nilai rendah dengan standar deviasi yang tinggi memiliki pendidikan terahir S2. Hal ini bukan berarti pendidikan terakhir dosen mempengaruhi nilai karena ada Zulfikar yang memberikan nilai tinggi dan standar deviasi yang tinggi pula itu memiliki pendidikan terakhir S3 sama seperti Andri Basuki."
      ]
    },
    {
      "cell_type": "markdown",
      "metadata": {
        "id": "5GpArDlgdocm"
      },
      "source": [
        "Permasalahan:\n",
        "\n",
        "**3. Apakah terdapat perbedaan performa akademik antara mahasiswa yang berasal dari Madrasah/SMK dan SMU?**"
      ]
    },
    {
      "cell_type": "code",
      "execution_count": null,
      "metadata": {
        "id": "9mD6wU9fuSH0"
      },
      "outputs": [],
      "source": [
        "mahasiswa"
      ]
    },
    {
      "cell_type": "code",
      "execution_count": null,
      "metadata": {
        "id": "3cSiZVfkqVR6"
      },
      "outputs": [],
      "source": [
        "mahasiswa\n",
        "mahasiswa = mahasiswa.set_index(['nim'])"
      ]
    },
    {
      "cell_type": "code",
      "execution_count": null,
      "metadata": {
        "id": "k5RiBVmMdpYZ"
      },
      "outputs": [],
      "source": [
        "asal_sekolah = pd.merge(mahasiswa, nilai, left_on='nim', right_index=True)\n",
        "asal_sekolah[['Asal_Sekolah', 'id_mata_kuliah', 'nilai', 'Asal_Daerah']]\n",
        "std = asal_sekolah.groupby([asal_sekolah[ 'Asal_Sekolah' ], asal_sekolah['Asal_Daerah'], asal_sekolah[ 'id_mata_kuliah' ]]).std()[['nilai']]\n",
        "rata_nilai = asal_sekolah.groupby([asal_sekolah['Asal_Sekolah'], asal_sekolah['Asal_Daerah'], asal_sekolah['id_mata_kuliah']]).mean()[['nilai']]\n",
        "std = std.rename({'nilai': 'std_nilai'}, axis=1)\n",
        "rata_nilai = rata_nilai.rename({'nilai': 'rata2_nilai'}, axis=1)\n",
        "rata_nilai"
      ]
    },
    {
      "cell_type": "markdown",
      "metadata": {
        "id": "pn_pLvqpg1L3"
      },
      "source": [
        "Interpretasi Nomor 3 :\n",
        "\n",
        "Terdapat perbedaan performa akademik di antara mahasiswa yang berasal dari MA/SMK dan SMU. Secara umum diketahui bahwa MA atau Madrasah Aliyah lebih menekankan pelajaran yang berhubungan dengan keagaamaan, SMK menekankan pelajaran kejuruan sesuai jurusan yang dipilih, kemudian untuk SMU menekankan pelajaran umum. Selain itu, ada beberapa sekolahan yang berasal dari daerah lokal maupun luar daerah yang sudah modern, dimana mereka mengikuti kurikulum terbaru, namun untuk daerah terpencil terkadang mereka terlambat untuk mengikuti kurikulum terbaru.\n",
        "\n",
        "Namun, hal tersebut tidak mempengaruhi pemahaman dan penguasaan mereka terhadap dasar pengetahuan dari mata kuliah yang diberikan. Hal ini terlihat dari rata-rata MA luar daerah > MA lokal, SMK luar daerah < SMK lokal, SMU luar daerah > SMU lokal.\n",
        "\n",
        "Performa akademik yang ditunjukkan oleh hasil analisis data menunjukkan bahwa pada mata kuliah STA02 sangat terlihat perbedaan antara mahasiswa yang berasal dari MA dan SMU luar daerah dengan SMK dan SMU lokal memiliki perbedaan nilai yang cukup jauh. Mahasiswa yang berasal dari SMK cenderung memiliki nilai STA yang tinggi sedangkan yang berasal dari MA dan SMU luar daerah memiliki nilai yang cenderung rendah. Pada mata kuliah CS01 mahasiswa yang berasal dari SMK lokal dan SMU lokal memiliki nilai yang cenderung rendah dibandingkan yang lainnya. Pada mata kuliah KAL02 mahasiswa yang berasal dari MA lokal SMK lokal tidak mengambil mata kuliah tersebut. Hal ini mungkin terjadi karena data yang diberikan kurang lengkap padahal nilai KAL01 mereka cukup bagus.\n",
        "Dalam hal ini dapat mempengaruhi performa akademik antara mahasiswa akan berbeda karena tidak semuanya mengambil mata kuliah yang sama."
      ]
    },
    {
      "cell_type": "markdown",
      "metadata": {
        "id": "9mNb3xxBfIj5"
      },
      "source": [
        "Permasalahan:\n",
        "\n",
        "**4. Apakah ada perbedaan yang nampak di data terhadap kemampuan akademik antara mahasiswa dan mahasiswi?**"
      ]
    },
    {
      "cell_type": "code",
      "execution_count": null,
      "metadata": {
        "id": "btzcJPU3fKR0"
      },
      "outputs": [],
      "source": [
        "mahasiswa = mahasiswa[['nama', 'Gender',]]\n",
        "nilai1 = nilai[['nilai','id_mata_kuliah']]\n",
        "nilai_gender= pd.merge(mahasiswa, nilai1, left_on='nim', right_index=True)\n",
        "nilai_gender = pd.merge(kuliah,nilai_gender,  on='id_mata_kuliah')\n",
        "nilai_gender1 = nilai_gender[['nama','nama_mata_kuliah','SKS','Gender','nilai']]\n",
        "nilai_gender1"
      ]
    },
    {
      "cell_type": "code",
      "execution_count": null,
      "metadata": {
        "id": "39Gs-w6Zqmen"
      },
      "outputs": [],
      "source": []
    },
    {
      "cell_type": "code",
      "execution_count": null,
      "metadata": {
        "id": "uqR6g0KQfNsu"
      },
      "outputs": [],
      "source": [
        "std_nilai = nilai_gender1.groupby([nilai_gender1[ 'nama_mata_kuliah' ],nilai_gender1[ 'Gender' ]]).std()[['nilai']]\n",
        "rata_nilai = nilai_gender1.groupby([nilai_gender1[ 'nama_mata_kuliah' ],nilai_gender1[ 'Gender' ]]).mean()[['nilai']]\n",
        "std_nilai = std_nilai.rename({'nilai': 'std_nilai'}, axis=1)\n",
        "rata_nilai = rata_nilai.rename({'nilai': 'rata2_nilai'}, axis=1)\n",
        "rata_nilai"
      ]
    },
    {
      "cell_type": "markdown",
      "metadata": {
        "id": "cxwAFz7cg0BS"
      },
      "source": [
        "Interpretasi Nomor 4 :\n",
        "\n",
        "Ya, terdapat perbedaan kemampuan akademik antara mahasiswa dan mahasiswi. Bisa kita lihat nilai antara mahasiswa dan mahasiswi. Berdasarkan rata-rata nilai secara keseluruhan, rata-rata nilai mahasiswa lebih tinggi dibanding mahasiswi dengan asumsi datanya terdistribusi normal. Namun, bila dilihat secara satu persatu, mata kuliah permata kuliah, ada beberapa mata kuliah yang rata-rata nilainya diungguli oleh mahasiswi, seperti kalkulus lanjut dan statistika matematika.\n",
        "\n",
        "Jika dilihat dari standar deviasi nilai mahasiswa lebih kecil, sehingga nial bisa diasumsikan"
      ]
    },
    {
      "cell_type": "markdown",
      "metadata": {
        "id": "UNpJdOejbkgJ"
      },
      "source": [
        "Permasalahan:\n",
        "\n",
        "**5. Apakah ada perbedaan prestasi akademik yang nampak di data antar angkatan mahasiswa?**"
      ]
    },
    {
      "cell_type": "code",
      "execution_count": null,
      "metadata": {
        "colab": {
          "background_save": true
        },
        "id": "IQpfD6ba4otX",
        "outputId": "6136d177-3919-40d5-b9b6-ca51f2339eda"
      },
      "outputs": [
        {
          "ename": "KeyError",
          "evalue": "ignored",
          "output_type": "error",
          "traceback": [
            "\u001b[0;31m---------------------------------------------------------------------------\u001b[0m",
            "\u001b[0;31mKeyError\u001b[0m                                  Traceback (most recent call last)",
            "\u001b[0;32m<ipython-input-12-11e9556e7a7e>\u001b[0m in \u001b[0;36m<module>\u001b[0;34m\u001b[0m\n\u001b[1;32m      1\u001b[0m \u001b[0mnilai_mahasiswai\u001b[0m \u001b[0;34m=\u001b[0m \u001b[0mpd\u001b[0m\u001b[0;34m.\u001b[0m\u001b[0mmerge\u001b[0m\u001b[0;34m(\u001b[0m\u001b[0mnilai\u001b[0m\u001b[0;34m,\u001b[0m\u001b[0mmahasiswa\u001b[0m\u001b[0;34m,\u001b[0m\u001b[0mleft_on\u001b[0m\u001b[0;34m=\u001b[0m\u001b[0;34m'nim'\u001b[0m\u001b[0;34m,\u001b[0m \u001b[0mright_index\u001b[0m\u001b[0;34m=\u001b[0m\u001b[0;32mTrue\u001b[0m\u001b[0;34m)\u001b[0m\u001b[0;34m\u001b[0m\u001b[0;34m\u001b[0m\u001b[0m\n\u001b[0;32m----> 2\u001b[0;31m \u001b[0mnilai_mahasiswaz\u001b[0m \u001b[0;34m=\u001b[0m \u001b[0mnilai_mahasiswai\u001b[0m\u001b[0;34m[\u001b[0m\u001b[0;34m[\u001b[0m\u001b[0;34m'id_mata_kuliah'\u001b[0m\u001b[0;34m,\u001b[0m\u001b[0;34m'nilai'\u001b[0m\u001b[0;34m,\u001b[0m\u001b[0;34m'Semester'\u001b[0m\u001b[0;34m,\u001b[0m\u001b[0;34m'Angkatan'\u001b[0m\u001b[0;34m]\u001b[0m\u001b[0;34m]\u001b[0m\u001b[0;34m\u001b[0m\u001b[0;34m\u001b[0m\u001b[0m\n\u001b[0m\u001b[1;32m      3\u001b[0m \u001b[0mrata_nilai_mahasiswa\u001b[0m \u001b[0;34m=\u001b[0m \u001b[0mnilai_mahasiswaz\u001b[0m\u001b[0;34m.\u001b[0m\u001b[0mgroupby\u001b[0m\u001b[0;34m(\u001b[0m\u001b[0;34m[\u001b[0m\u001b[0mnilai_mahasiswaz\u001b[0m\u001b[0;34m[\u001b[0m \u001b[0;34m'Angkatan'\u001b[0m \u001b[0;34m]\u001b[0m\u001b[0;34m,\u001b[0m\u001b[0mnilai_mahasiswaz\u001b[0m\u001b[0;34m[\u001b[0m \u001b[0;34m'Semester'\u001b[0m \u001b[0;34m]\u001b[0m\u001b[0;34m,\u001b[0m\u001b[0mnilai_mahasiswaz\u001b[0m\u001b[0;34m[\u001b[0m \u001b[0;34m'id_mata_kuliah'\u001b[0m \u001b[0;34m]\u001b[0m\u001b[0;34m]\u001b[0m\u001b[0;34m)\u001b[0m\u001b[0;34m.\u001b[0m\u001b[0mmean\u001b[0m\u001b[0;34m(\u001b[0m\u001b[0;34m)\u001b[0m\u001b[0;34m[\u001b[0m\u001b[0;34m[\u001b[0m\u001b[0;34m'nilai'\u001b[0m\u001b[0;34m]\u001b[0m\u001b[0;34m]\u001b[0m\u001b[0;34m\u001b[0m\u001b[0;34m\u001b[0m\u001b[0m\n\u001b[1;32m      4\u001b[0m \u001b[0mstd_nilai_mahasiswa\u001b[0m \u001b[0;34m=\u001b[0m \u001b[0mnilai_mahasiswaz\u001b[0m\u001b[0;34m.\u001b[0m\u001b[0mgroupby\u001b[0m\u001b[0;34m(\u001b[0m\u001b[0;34m[\u001b[0m\u001b[0mnilai_mahasiswaz\u001b[0m\u001b[0;34m[\u001b[0m \u001b[0;34m'Angkatan'\u001b[0m \u001b[0;34m]\u001b[0m\u001b[0;34m,\u001b[0m\u001b[0mnilai_mahasiswaz\u001b[0m\u001b[0;34m[\u001b[0m \u001b[0;34m'Semester'\u001b[0m \u001b[0;34m]\u001b[0m\u001b[0;34m,\u001b[0m\u001b[0mnilai_mahasiswaz\u001b[0m\u001b[0;34m[\u001b[0m \u001b[0;34m'id_mata_kuliah'\u001b[0m \u001b[0;34m]\u001b[0m\u001b[0;34m]\u001b[0m\u001b[0;34m)\u001b[0m\u001b[0;34m.\u001b[0m\u001b[0mstd\u001b[0m\u001b[0;34m(\u001b[0m\u001b[0;34m)\u001b[0m\u001b[0;34m[\u001b[0m\u001b[0;34m[\u001b[0m\u001b[0;34m'nilai'\u001b[0m\u001b[0;34m]\u001b[0m\u001b[0;34m]\u001b[0m\u001b[0;34m\u001b[0m\u001b[0;34m\u001b[0m\u001b[0m\n",
            "\u001b[0;32m/usr/local/lib/python3.7/dist-packages/pandas/core/frame.py\u001b[0m in \u001b[0;36m__getitem__\u001b[0;34m(self, key)\u001b[0m\n\u001b[1;32m   3462\u001b[0m             \u001b[0;32mif\u001b[0m \u001b[0mis_iterator\u001b[0m\u001b[0;34m(\u001b[0m\u001b[0mkey\u001b[0m\u001b[0;34m)\u001b[0m\u001b[0;34m:\u001b[0m\u001b[0;34m\u001b[0m\u001b[0;34m\u001b[0m\u001b[0m\n\u001b[1;32m   3463\u001b[0m                 \u001b[0mkey\u001b[0m \u001b[0;34m=\u001b[0m \u001b[0mlist\u001b[0m\u001b[0;34m(\u001b[0m\u001b[0mkey\u001b[0m\u001b[0;34m)\u001b[0m\u001b[0;34m\u001b[0m\u001b[0;34m\u001b[0m\u001b[0m\n\u001b[0;32m-> 3464\u001b[0;31m             \u001b[0mindexer\u001b[0m \u001b[0;34m=\u001b[0m \u001b[0mself\u001b[0m\u001b[0;34m.\u001b[0m\u001b[0mloc\u001b[0m\u001b[0;34m.\u001b[0m\u001b[0m_get_listlike_indexer\u001b[0m\u001b[0;34m(\u001b[0m\u001b[0mkey\u001b[0m\u001b[0;34m,\u001b[0m \u001b[0maxis\u001b[0m\u001b[0;34m=\u001b[0m\u001b[0;36m1\u001b[0m\u001b[0;34m)\u001b[0m\u001b[0;34m[\u001b[0m\u001b[0;36m1\u001b[0m\u001b[0;34m]\u001b[0m\u001b[0;34m\u001b[0m\u001b[0;34m\u001b[0m\u001b[0m\n\u001b[0m\u001b[1;32m   3465\u001b[0m \u001b[0;34m\u001b[0m\u001b[0m\n\u001b[1;32m   3466\u001b[0m         \u001b[0;31m# take() does not accept boolean indexers\u001b[0m\u001b[0;34m\u001b[0m\u001b[0;34m\u001b[0m\u001b[0;34m\u001b[0m\u001b[0m\n",
            "\u001b[0;32m/usr/local/lib/python3.7/dist-packages/pandas/core/indexing.py\u001b[0m in \u001b[0;36m_get_listlike_indexer\u001b[0;34m(self, key, axis)\u001b[0m\n\u001b[1;32m   1312\u001b[0m             \u001b[0mkeyarr\u001b[0m\u001b[0;34m,\u001b[0m \u001b[0mindexer\u001b[0m\u001b[0;34m,\u001b[0m \u001b[0mnew_indexer\u001b[0m \u001b[0;34m=\u001b[0m \u001b[0max\u001b[0m\u001b[0;34m.\u001b[0m\u001b[0m_reindex_non_unique\u001b[0m\u001b[0;34m(\u001b[0m\u001b[0mkeyarr\u001b[0m\u001b[0;34m)\u001b[0m\u001b[0;34m\u001b[0m\u001b[0;34m\u001b[0m\u001b[0m\n\u001b[1;32m   1313\u001b[0m \u001b[0;34m\u001b[0m\u001b[0m\n\u001b[0;32m-> 1314\u001b[0;31m         \u001b[0mself\u001b[0m\u001b[0;34m.\u001b[0m\u001b[0m_validate_read_indexer\u001b[0m\u001b[0;34m(\u001b[0m\u001b[0mkeyarr\u001b[0m\u001b[0;34m,\u001b[0m \u001b[0mindexer\u001b[0m\u001b[0;34m,\u001b[0m \u001b[0maxis\u001b[0m\u001b[0;34m)\u001b[0m\u001b[0;34m\u001b[0m\u001b[0;34m\u001b[0m\u001b[0m\n\u001b[0m\u001b[1;32m   1315\u001b[0m \u001b[0;34m\u001b[0m\u001b[0m\n\u001b[1;32m   1316\u001b[0m         if needs_i8_conversion(ax.dtype) or isinstance(\n",
            "\u001b[0;32m/usr/local/lib/python3.7/dist-packages/pandas/core/indexing.py\u001b[0m in \u001b[0;36m_validate_read_indexer\u001b[0;34m(self, key, indexer, axis)\u001b[0m\n\u001b[1;32m   1375\u001b[0m \u001b[0;34m\u001b[0m\u001b[0m\n\u001b[1;32m   1376\u001b[0m             \u001b[0mnot_found\u001b[0m \u001b[0;34m=\u001b[0m \u001b[0mlist\u001b[0m\u001b[0;34m(\u001b[0m\u001b[0mensure_index\u001b[0m\u001b[0;34m(\u001b[0m\u001b[0mkey\u001b[0m\u001b[0;34m)\u001b[0m\u001b[0;34m[\u001b[0m\u001b[0mmissing_mask\u001b[0m\u001b[0;34m.\u001b[0m\u001b[0mnonzero\u001b[0m\u001b[0;34m(\u001b[0m\u001b[0;34m)\u001b[0m\u001b[0;34m[\u001b[0m\u001b[0;36m0\u001b[0m\u001b[0;34m]\u001b[0m\u001b[0;34m]\u001b[0m\u001b[0;34m.\u001b[0m\u001b[0munique\u001b[0m\u001b[0;34m(\u001b[0m\u001b[0;34m)\u001b[0m\u001b[0;34m)\u001b[0m\u001b[0;34m\u001b[0m\u001b[0;34m\u001b[0m\u001b[0m\n\u001b[0;32m-> 1377\u001b[0;31m             \u001b[0;32mraise\u001b[0m \u001b[0mKeyError\u001b[0m\u001b[0;34m(\u001b[0m\u001b[0;34mf\"{not_found} not in index\"\u001b[0m\u001b[0;34m)\u001b[0m\u001b[0;34m\u001b[0m\u001b[0;34m\u001b[0m\u001b[0m\n\u001b[0m\u001b[1;32m   1378\u001b[0m \u001b[0;34m\u001b[0m\u001b[0m\n\u001b[1;32m   1379\u001b[0m \u001b[0;34m\u001b[0m\u001b[0m\n",
            "\u001b[0;31mKeyError\u001b[0m: \"['Semester', 'Angkatan'] not in index\""
          ]
        }
      ],
      "source": [
        "inilai = nilai.set_index(['nim'])\n",
        "imahasiswa = mahasiswa.set_index(['nim'])\n",
        "nilai_mahasiswai = pd.merge(inilai,imahasiswa,left_on='nim', right_index=True)\n",
        "nilai_mahasiswaz = nilai_mahasiswai[['id_mata_kuliah','nilai','Semester','Angkatan']]\n",
        "rata_nilai_mahasiswa = nilai_mahasiswaz.groupby([nilai_mahasiswaz[ 'Angkatan' ],nilai_mahasiswaz[ 'Semester' ],nilai_mahasiswaz[ 'id_mata_kuliah' ]]).mean()[['nilai']]\n",
        "std_nilai_mahasiswa = nilai_mahasiswaz.groupby([nilai_mahasiswaz[ 'Angkatan' ],nilai_mahasiswaz[ 'Semester' ],nilai_mahasiswaz[ 'id_mata_kuliah' ]]).std()[['nilai']]"
      ]
    },
    {
      "cell_type": "code",
      "execution_count": null,
      "metadata": {
        "id": "o7OvmQW-KGSS"
      },
      "outputs": [],
      "source": [
        "std_nilai"
      ]
    },
    {
      "cell_type": "code",
      "execution_count": null,
      "metadata": {
        "id": "3xsD-Dahb99Y"
      },
      "outputs": [],
      "source": [
        "rata_nilai"
      ]
    },
    {
      "cell_type": "markdown",
      "metadata": {
        "id": "-s38NK-Ehwel"
      },
      "source": [
        "Interpretasi Nomor 5 :\n",
        "\n",
        "Setelah mengelola data tersebut, bisa disimpulkan bahwa perbedaan prestasi akademik antara angkatan 2019 dan 2020 signifikan dibeberapa mata kuliah terutama pada mata kuliah KAL01 dengan selisih rata-rata tertinggi tetapi terdapat perbedaan yang tidak signifikan pada mata kuliah CS01."
      ]
    },
    {
      "cell_type": "markdown",
      "metadata": {
        "id": "N8cZ7njzibtv"
      },
      "source": [
        "Permasalahan:\n",
        "\n",
        "**6. Apakah ada permasalahan di data atau informasi lain yang anda temukan di data?**"
      ]
    },
    {
      "cell_type": "code",
      "execution_count": null,
      "metadata": {
        "id": "JAUqW8ZgiY1h"
      },
      "outputs": [],
      "source": [
        "nilai_gender1.groupby (nilai_gender1 [ 'nama_mata_kuliah' ]).count()[['nama']]"
      ]
    },
    {
      "cell_type": "code",
      "execution_count": null,
      "metadata": {
        "id": "zAqnyFyBjM7D"
      },
      "outputs": [],
      "source": [
        "kuliah.head(100)"
      ]
    },
    {
      "cell_type": "markdown",
      "metadata": {
        "id": "jaVS8MggmNKF"
      },
      "source": [
        "Nomor 6\n",
        "\n",
        "Kami menemukan permasalahan pada data di nomor 4 ketika digroupby dan std terdapat Nan di mata kuliah kalkulus lanjut dengan gender wanita.\n",
        "\n",
        "Informasi lainnya : Pada tabel mata kuliah terdapat 9 mata kuliah yaitu Kalkulus dasar, Statistika Elementer, Matematika Dasar, Statistika Matematika, Operation Research, Pendahuluan Ilmu Komputer, Aljabar Abstrak, Aljabar linear, dan Kalkulus Lanjut, tetapi ternyata terdapat 5 mata kuliah yang sama sekali tidak diikuti oleh mahasiswa (tidak ada mahasiswa/mahasiswi yang mengikuti mata kuliah tsb), seperti Statistika Elementer, Matematika dasar, Operation Research, aljabar abstrak, aljabar linear."
      ]
    }
  ],
  "metadata": {
    "colab": {
      "provenance": []
    },
    "kernelspec": {
      "display_name": "Python 3",
      "name": "python3"
    },
    "language_info": {
      "name": "python"
    }
  },
  "nbformat": 4,
  "nbformat_minor": 0
}